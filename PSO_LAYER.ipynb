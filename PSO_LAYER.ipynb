{
 "cells": [
  {
   "cell_type": "markdown",
   "metadata": {},
   "source": [
    "Another method of data preparation(use this one)\n",
    "assume the data is already given as abnormal and normal"
   ]
  },
  {
   "cell_type": "code",
   "execution_count": 1,
   "metadata": {},
   "outputs": [],
   "source": [
    "#import the necessary packages\n",
    "from tensorflow.keras.preprocessing.image import ImageDataGenerator\n",
    "from tensorflow.keras.applications import VGG19\n",
    "from tensorflow.keras.layers import AveragePooling2D,Dropout,Flatten,Dense,Input\n",
    "from tensorflow.keras.models import Model\n",
    "from tensorflow.keras.optimizers import Adam\n",
    "from tensorflow.keras.utils import to_categorical\n",
    "from tensorflow.keras.callbacks import EarlyStopping, ReduceLROnPlateau, ModelCheckpoint\n",
    "from matplotlib.pyplot import figure\n",
    "from sklearn.preprocessing import LabelBinarizer\n",
    "from sklearn.model_selection import train_test_split\n",
    "from sklearn.metrics import classification_report,confusion_matrix\n",
    "from imutils import paths\n",
    "from random import shuffle, choice\n",
    "from PIL import Image\n",
    "from random import randint\n",
    "import argparse\n",
    "import os\n",
    "import sys\n",
    "import tensorflow as tf\n",
    "import numpy as np\n",
    "import matplotlib as plt\n",
    "import random\n",
    "import glob\n",
    "import matplotlib.pyplot as plt\n",
    "import time\n",
    "import pandas as pd\n",
    "import cv2\n",
    "import math\n"
   ]
  },
  {
   "cell_type": "code",
   "execution_count": 3,
   "metadata": {},
   "outputs": [
    {
     "ename": "ModuleNotFoundError",
     "evalue": "No module named 'anis_koubaa_lib'",
     "output_type": "error",
     "traceback": [
      "\u001b[1;31m---------------------------------------------------------------------------\u001b[0m",
      "\u001b[1;31mModuleNotFoundError\u001b[0m                       Traceback (most recent call last)",
      "\u001b[1;32m<ipython-input-3-0b65a37b97fb>\u001b[0m in \u001b[0;36m<module>\u001b[1;34m\u001b[0m\n\u001b[0;32m      3\u001b[0m \u001b[1;32mimport\u001b[0m \u001b[0msys\u001b[0m\u001b[1;33m\u001b[0m\u001b[1;33m\u001b[0m\u001b[0m\n\u001b[0;32m      4\u001b[0m \u001b[0msys\u001b[0m\u001b[1;33m.\u001b[0m\u001b[0mpath\u001b[0m\u001b[1;33m.\u001b[0m\u001b[0mappend\u001b[0m\u001b[1;33m(\u001b[0m\u001b[1;34m\"C:/Users/User/DEEP LEARNING\"\u001b[0m\u001b[1;33m)\u001b[0m\u001b[1;33m\u001b[0m\u001b[1;33m\u001b[0m\u001b[0m\n\u001b[1;32m----> 5\u001b[1;33m \u001b[1;32mimport\u001b[0m \u001b[0manis_koubaa_lib\u001b[0m\u001b[1;33m\u001b[0m\u001b[1;33m\u001b[0m\u001b[0m\n\u001b[0m\u001b[0;32m      6\u001b[0m \u001b[1;32mfrom\u001b[0m \u001b[0manis_koubaa_lib\u001b[0m \u001b[1;32mimport\u001b[0m \u001b[1;33m*\u001b[0m\u001b[1;33m\u001b[0m\u001b[1;33m\u001b[0m\u001b[0m\n\u001b[0;32m      7\u001b[0m \u001b[1;33m\u001b[0m\u001b[0m\n",
      "\u001b[1;31mModuleNotFoundError\u001b[0m: No module named 'anis_koubaa_lib'"
     ]
    }
   ],
   "source": [
    "#here import .py file\n",
    "#make sure the py file path is same as ipynb path\n",
    "import sys\n",
    "sys.path.append(\"C:/Users/User/DEEP LEARNING\")\n",
    "import anis_koubaa_lib\n",
    "from anis_koubaa_lib import *\n",
    "\n",
    "#here we assume the data is already given as abnormal and normal\n",
    "dataset_path=\"C:/Users/User/Pictures/sajo try data TB/pulmonary-chest-xray-abnormalities/X-ray\"\n",
    "IMAGE_SIZE=224\n",
    "\n",
    "#LOAD THE DATASET\n",
    "data,labels= anis_koubaa_lib.load_rgb_data_cv(dataset_path,IMAGE_SIZE, shuffle=True)\n"
   ]
  },
  {
   "cell_type": "code",
   "execution_count": 4,
   "metadata": {},
   "outputs": [
    {
     "ename": "NameError",
     "evalue": "name 'anis_koubaa_lib' is not defined",
     "output_type": "error",
     "traceback": [
      "\u001b[1;31m---------------------------------------------------------------------------\u001b[0m",
      "\u001b[1;31mNameError\u001b[0m                                 Traceback (most recent call last)",
      "\u001b[1;32m<ipython-input-4-2adfae88918d>\u001b[0m in \u001b[0;36m<module>\u001b[1;34m\u001b[0m\n\u001b[1;32m----> 1\u001b[1;33m \u001b[0manis_koubaa_lib\u001b[0m\u001b[1;33m.\u001b[0m\u001b[0mplot_sample_from_dataset\u001b[0m\u001b[1;33m(\u001b[0m\u001b[0mdata\u001b[0m\u001b[1;33m,\u001b[0m \u001b[0mlabels\u001b[0m\u001b[1;33m,\u001b[0m \u001b[0mrows\u001b[0m\u001b[1;33m=\u001b[0m\u001b[1;36m5\u001b[0m\u001b[1;33m,\u001b[0m \u001b[0mcolums\u001b[0m\u001b[1;33m=\u001b[0m\u001b[1;36m5\u001b[0m\u001b[1;33m,\u001b[0m \u001b[0mwidth\u001b[0m\u001b[1;33m=\u001b[0m\u001b[1;36m20\u001b[0m\u001b[1;33m,\u001b[0m \u001b[0mheight\u001b[0m\u001b[1;33m=\u001b[0m\u001b[1;36m10\u001b[0m\u001b[1;33m)\u001b[0m\u001b[1;33m\u001b[0m\u001b[1;33m\u001b[0m\u001b[0m\n\u001b[0m",
      "\u001b[1;31mNameError\u001b[0m: name 'anis_koubaa_lib' is not defined"
     ]
    }
   ],
   "source": [
    "anis_koubaa_lib.plot_sample_from_dataset(data, labels, rows=5, colums=5, width=20, height=10)"
   ]
  },
  {
   "cell_type": "code",
   "execution_count": 5,
   "metadata": {},
   "outputs": [
    {
     "ename": "NameError",
     "evalue": "name 'anis_koubaa_lib' is not defined",
     "output_type": "error",
     "traceback": [
      "\u001b[1;31m---------------------------------------------------------------------------\u001b[0m",
      "\u001b[1;31mNameError\u001b[0m                                 Traceback (most recent call last)",
      "\u001b[1;32m<ipython-input-5-22b1948c0a0a>\u001b[0m in \u001b[0;36m<module>\u001b[1;34m\u001b[0m\n\u001b[0;32m      1\u001b[0m \u001b[1;31m#change index to any number to see different image\u001b[0m\u001b[1;33m\u001b[0m\u001b[1;33m\u001b[0m\u001b[1;33m\u001b[0m\u001b[0m\n\u001b[1;32m----> 2\u001b[1;33m \u001b[0manis_koubaa_lib\u001b[0m\u001b[1;33m.\u001b[0m\u001b[0mdisplay_image\u001b[0m\u001b[1;33m(\u001b[0m\u001b[0mdata\u001b[0m\u001b[1;33m,\u001b[0m\u001b[0mlabels\u001b[0m\u001b[1;33m,\u001b[0m\u001b[0mindex\u001b[0m\u001b[1;33m=\u001b[0m\u001b[1;36m10\u001b[0m\u001b[1;33m)\u001b[0m\u001b[1;33m\u001b[0m\u001b[1;33m\u001b[0m\u001b[0m\n\u001b[0m",
      "\u001b[1;31mNameError\u001b[0m: name 'anis_koubaa_lib' is not defined"
     ]
    }
   ],
   "source": [
    "#change index to any number to see different image\n",
    "anis_koubaa_lib.display_image(data,labels,index=10)"
   ]
  },
  {
   "cell_type": "code",
   "execution_count": 6,
   "metadata": {},
   "outputs": [
    {
     "ename": "NameError",
     "evalue": "name 'anis_koubaa_lib' is not defined",
     "output_type": "error",
     "traceback": [
      "\u001b[1;31m---------------------------------------------------------------------------\u001b[0m",
      "\u001b[1;31mNameError\u001b[0m                                 Traceback (most recent call last)",
      "\u001b[1;32m<ipython-input-6-5bcafb5468d6>\u001b[0m in \u001b[0;36m<module>\u001b[1;34m\u001b[0m\n\u001b[1;32m----> 1\u001b[1;33m \u001b[0manis_koubaa_lib\u001b[0m\u001b[1;33m.\u001b[0m\u001b[0mdisplay_dataset_shape\u001b[0m\u001b[1;33m(\u001b[0m\u001b[0mdata\u001b[0m\u001b[1;33m,\u001b[0m \u001b[0mlabels\u001b[0m\u001b[1;33m)\u001b[0m\u001b[1;33m\u001b[0m\u001b[1;33m\u001b[0m\u001b[0m\n\u001b[0m",
      "\u001b[1;31mNameError\u001b[0m: name 'anis_koubaa_lib' is not defined"
     ]
    }
   ],
   "source": [
    "anis_koubaa_lib.display_dataset_shape(data, labels)"
   ]
  },
  {
   "cell_type": "code",
   "execution_count": 7,
   "metadata": {},
   "outputs": [
    {
     "ename": "NameError",
     "evalue": "name 'anis_koubaa_lib' is not defined",
     "output_type": "error",
     "traceback": [
      "\u001b[1;31m---------------------------------------------------------------------------\u001b[0m",
      "\u001b[1;31mNameError\u001b[0m                                 Traceback (most recent call last)",
      "\u001b[1;32m<ipython-input-7-8a6e1c06ecd9>\u001b[0m in \u001b[0;36m<module>\u001b[1;34m\u001b[0m\n\u001b[0;32m      1\u001b[0m \u001b[1;31m#display classes of dataset\u001b[0m\u001b[1;33m\u001b[0m\u001b[1;33m\u001b[0m\u001b[1;33m\u001b[0m\u001b[0m\n\u001b[1;32m----> 2\u001b[1;33m \u001b[0manis_koubaa_lib\u001b[0m\u001b[1;33m.\u001b[0m\u001b[0mdisplay_dataset_folders\u001b[0m\u001b[1;33m(\u001b[0m\u001b[0mdataset_path\u001b[0m\u001b[1;33m)\u001b[0m\u001b[1;33m\u001b[0m\u001b[1;33m\u001b[0m\u001b[0m\n\u001b[0m",
      "\u001b[1;31mNameError\u001b[0m: name 'anis_koubaa_lib' is not defined"
     ]
    }
   ],
   "source": [
    "#display classes of dataset\n",
    "anis_koubaa_lib.display_dataset_folders(dataset_path)"
   ]
  },
  {
   "cell_type": "code",
   "execution_count": 8,
   "metadata": {},
   "outputs": [
    {
     "ename": "NameError",
     "evalue": "name 'anis_koubaa_lib' is not defined",
     "output_type": "error",
     "traceback": [
      "\u001b[1;31m---------------------------------------------------------------------------\u001b[0m",
      "\u001b[1;31mNameError\u001b[0m                                 Traceback (most recent call last)",
      "\u001b[1;32m<ipython-input-8-b7b1bae2ce21>\u001b[0m in \u001b[0;36m<module>\u001b[1;34m\u001b[0m\n\u001b[0;32m      1\u001b[0m \u001b[1;31m#make csv file to store collected stats\u001b[0m\u001b[1;33m\u001b[0m\u001b[1;33m\u001b[0m\u001b[1;33m\u001b[0m\u001b[0m\n\u001b[1;32m----> 2\u001b[1;33m \u001b[0mstats\u001b[0m\u001b[1;33m=\u001b[0m\u001b[0manis_koubaa_lib\u001b[0m\u001b[1;33m.\u001b[0m\u001b[0mget_data_distribution\u001b[0m\u001b[1;33m(\u001b[0m\u001b[0mdataset_path\u001b[0m\u001b[1;33m,\u001b[0m\u001b[0moutput_file\u001b[0m\u001b[1;33m=\u001b[0m\u001b[1;34m'C:/Users/User/DEEP LEARNING/stats_XRay.csv'\u001b[0m\u001b[1;33m)\u001b[0m\u001b[1;33m\u001b[0m\u001b[1;33m\u001b[0m\u001b[0m\n\u001b[0m",
      "\u001b[1;31mNameError\u001b[0m: name 'anis_koubaa_lib' is not defined"
     ]
    }
   ],
   "source": [
    "#make csv file to store collected stats\n",
    "stats=anis_koubaa_lib.get_data_distribution(dataset_path,output_file='C:/Users/User/DEEP LEARNING/stats_XRay.csv')"
   ]
  },
  {
   "cell_type": "code",
   "execution_count": 9,
   "metadata": {},
   "outputs": [
    {
     "ename": "NameError",
     "evalue": "name 'anis_koubaa_lib' is not defined",
     "output_type": "error",
     "traceback": [
      "\u001b[1;31m---------------------------------------------------------------------------\u001b[0m",
      "\u001b[1;31mNameError\u001b[0m                                 Traceback (most recent call last)",
      "\u001b[1;32m<ipython-input-9-09b2e0fcd1a5>\u001b[0m in \u001b[0;36m<module>\u001b[1;34m\u001b[0m\n\u001b[0;32m      1\u001b[0m \u001b[1;31m#range=size in kb, bins=ketebalan bar chart\u001b[0m\u001b[1;33m\u001b[0m\u001b[1;33m\u001b[0m\u001b[1;33m\u001b[0m\u001b[0m\n\u001b[0;32m      2\u001b[0m \u001b[1;31m#most data have size between 200-400\u001b[0m\u001b[1;33m\u001b[0m\u001b[1;33m\u001b[0m\u001b[1;33m\u001b[0m\u001b[0m\n\u001b[1;32m----> 3\u001b[1;33m \u001b[0manis_koubaa_lib\u001b[0m\u001b[1;33m.\u001b[0m\u001b[0mplot_dataset_distribution\u001b[0m\u001b[1;33m(\u001b[0m\u001b[0mstats\u001b[0m\u001b[1;33m,\u001b[0m\u001b[0mnum_cols\u001b[0m\u001b[1;33m=\u001b[0m\u001b[1;36m1\u001b[0m\u001b[1;33m,\u001b[0m\u001b[0mwidth\u001b[0m\u001b[1;33m=\u001b[0m\u001b[1;36m10\u001b[0m\u001b[1;33m,\u001b[0m\u001b[0mheight\u001b[0m\u001b[1;33m=\u001b[0m\u001b[1;36m10\u001b[0m\u001b[1;33m,\u001b[0m\u001b[0mhistogram_bins\u001b[0m\u001b[1;33m=\u001b[0m\u001b[1;36m50\u001b[0m\u001b[1;33m,\u001b[0m\u001b[0mhistogram_range\u001b[0m\u001b[1;33m=\u001b[0m\u001b[1;33m[\u001b[0m\u001b[1;36m0\u001b[0m\u001b[1;33m,\u001b[0m\u001b[1;36m1000\u001b[0m\u001b[1;33m]\u001b[0m\u001b[1;33m)\u001b[0m\u001b[1;33m\u001b[0m\u001b[1;33m\u001b[0m\u001b[0m\n\u001b[0m",
      "\u001b[1;31mNameError\u001b[0m: name 'anis_koubaa_lib' is not defined"
     ]
    }
   ],
   "source": [
    "#range=size in kb, bins=ketebalan bar chart\n",
    "#most data have size between 200-400 \n",
    "anis_koubaa_lib.plot_dataset_distribution(stats,num_cols=1,width=10,height=10,histogram_bins=50,histogram_range=[0,1000])"
   ]
  },
  {
   "cell_type": "markdown",
   "metadata": {},
   "source": [
    "# Data Loading "
   ]
  },
  {
   "cell_type": "code",
   "execution_count": 10,
   "metadata": {},
   "outputs": [
    {
     "ename": "NameError",
     "evalue": "name 'anis_koubaa_lib' is not defined",
     "output_type": "error",
     "traceback": [
      "\u001b[1;31m---------------------------------------------------------------------------\u001b[0m",
      "\u001b[1;31mNameError\u001b[0m                                 Traceback (most recent call last)",
      "\u001b[1;32m<ipython-input-10-94afd3b2a5b0>\u001b[0m in \u001b[0;36m<module>\u001b[1;34m\u001b[0m\n\u001b[1;32m----> 1\u001b[1;33m \u001b[0mdata\u001b[0m\u001b[1;33m,\u001b[0m\u001b[0mlabels\u001b[0m\u001b[1;33m=\u001b[0m\u001b[0manis_koubaa_lib\u001b[0m\u001b[1;33m.\u001b[0m\u001b[0mload_rgb_data_cv\u001b[0m\u001b[1;33m(\u001b[0m\u001b[0mdataset_path\u001b[0m\u001b[1;33m,\u001b[0m\u001b[0mIMAGE_SIZE\u001b[0m\u001b[1;33m,\u001b[0m\u001b[0mshuffle\u001b[0m\u001b[1;33m=\u001b[0m\u001b[1;32mTrue\u001b[0m\u001b[1;33m)\u001b[0m\u001b[1;33m\u001b[0m\u001b[1;33m\u001b[0m\u001b[0m\n\u001b[0m\u001b[0;32m      2\u001b[0m \u001b[1;33m\u001b[0m\u001b[0m\n\u001b[0;32m      3\u001b[0m \u001b[1;31m#NORMALIZE THE DATA BY /255\u001b[0m\u001b[1;33m\u001b[0m\u001b[1;33m\u001b[0m\u001b[1;33m\u001b[0m\u001b[0m\n\u001b[0;32m      4\u001b[0m \u001b[0mdata\u001b[0m\u001b[1;33m=\u001b[0m\u001b[0manis_koubaa_lib\u001b[0m\u001b[1;33m.\u001b[0m\u001b[0mnormalize_data\u001b[0m\u001b[1;33m(\u001b[0m\u001b[0mdata\u001b[0m\u001b[1;33m)\u001b[0m\u001b[1;33m\u001b[0m\u001b[1;33m\u001b[0m\u001b[0m\n\u001b[0;32m      5\u001b[0m \u001b[1;33m\u001b[0m\u001b[0m\n",
      "\u001b[1;31mNameError\u001b[0m: name 'anis_koubaa_lib' is not defined"
     ]
    }
   ],
   "source": [
    "data,labels=anis_koubaa_lib.load_rgb_data_cv(dataset_path,IMAGE_SIZE,shuffle=True)\n",
    "\n",
    "#NORMALIZE THE DATA BY /255\n",
    "data=anis_koubaa_lib.normalize_data(data)\n",
    "\n",
    "#perform one hot encoding on the labels\n",
    "#PRINT THE FIRST 5 DATA\n",
    "print(\"Labels: \",labels[:5])\n",
    "lb = LabelBinarizer()\n",
    "binary_labels = lb.fit_transform(labels)\n",
    "print(\"binary_labels after Binarizer: \", binary_labels[:5])\n",
    "hot_encoded_labels= to_categorical(binary_labels)\n",
    "print(\"hot_encoded_labels after one-hot encoding: \", hot_encoded_labels[:5])"
   ]
  },
  {
   "cell_type": "code",
   "execution_count": 11,
   "metadata": {},
   "outputs": [
    {
     "ename": "NameError",
     "evalue": "name 'data' is not defined",
     "output_type": "error",
     "traceback": [
      "\u001b[1;31m---------------------------------------------------------------------------\u001b[0m",
      "\u001b[1;31mNameError\u001b[0m                                 Traceback (most recent call last)",
      "\u001b[1;32m<ipython-input-11-e908b1285bfe>\u001b[0m in \u001b[0;36m<module>\u001b[1;34m\u001b[0m\n\u001b[0;32m      2\u001b[0m \u001b[1;31m#80% for training and 20% for testing\u001b[0m\u001b[1;33m\u001b[0m\u001b[1;33m\u001b[0m\u001b[1;33m\u001b[0m\u001b[0m\n\u001b[0;32m      3\u001b[0m \u001b[1;33m\u001b[0m\u001b[0m\n\u001b[1;32m----> 4\u001b[1;33m \u001b[1;33m(\u001b[0m \u001b[0mtrain_data\u001b[0m\u001b[1;33m,\u001b[0m \u001b[0mtest_data\u001b[0m\u001b[1;33m,\u001b[0m \u001b[0mtrain_target\u001b[0m\u001b[1;33m,\u001b[0m \u001b[0mtest_target\u001b[0m \u001b[1;33m)\u001b[0m \u001b[1;33m=\u001b[0m \u001b[0mtrain_test_split\u001b[0m\u001b[1;33m(\u001b[0m\u001b[0mdata\u001b[0m\u001b[1;33m,\u001b[0m \u001b[0mhot_encoded_labels\u001b[0m\u001b[1;33m,\u001b[0m \u001b[0mtest_size\u001b[0m\u001b[1;33m=\u001b[0m\u001b[1;36m0.20\u001b[0m\u001b[1;33m,\u001b[0m \u001b[0mstratify\u001b[0m\u001b[1;33m=\u001b[0m\u001b[0mhot_encoded_labels\u001b[0m\u001b[1;33m,\u001b[0m \u001b[0mrandom_state\u001b[0m\u001b[1;33m=\u001b[0m\u001b[1;36m42\u001b[0m\u001b[1;33m)\u001b[0m\u001b[1;33m\u001b[0m\u001b[1;33m\u001b[0m\u001b[0m\n\u001b[0m\u001b[0;32m      5\u001b[0m \u001b[1;33m\u001b[0m\u001b[0m\n\u001b[0;32m      6\u001b[0m \u001b[0manis_koubaa_lib\u001b[0m\u001b[1;33m.\u001b[0m\u001b[0mplot_sample_from_dataset\u001b[0m\u001b[1;33m(\u001b[0m\u001b[0mtrain_data\u001b[0m\u001b[1;33m,\u001b[0m \u001b[0mtrain_target\u001b[0m\u001b[1;33m,\u001b[0m \u001b[0mrows\u001b[0m\u001b[1;33m=\u001b[0m\u001b[1;36m3\u001b[0m\u001b[1;33m,\u001b[0m \u001b[0mcolums\u001b[0m\u001b[1;33m=\u001b[0m\u001b[1;36m2\u001b[0m\u001b[1;33m,\u001b[0m \u001b[0mwidth\u001b[0m\u001b[1;33m=\u001b[0m\u001b[1;36m10\u001b[0m\u001b[1;33m,\u001b[0m \u001b[0mheight\u001b[0m\u001b[1;33m=\u001b[0m\u001b[1;36m10\u001b[0m\u001b[1;33m)\u001b[0m\u001b[1;33m\u001b[0m\u001b[1;33m\u001b[0m\u001b[0m\n",
      "\u001b[1;31mNameError\u001b[0m: name 'data' is not defined"
     ]
    }
   ],
   "source": [
    "#separate the data into training and testing dataset\n",
    "#80% for training and 20% for testing\n",
    "\n",
    "( train_data, test_data, train_target, test_target ) = train_test_split(data, hot_encoded_labels, test_size=0.20, stratify=hot_encoded_labels, random_state=42)\n",
    "\n",
    "anis_koubaa_lib.plot_sample_from_dataset(train_data, train_target, rows=3, colums=2, width=10, height=10)\n",
    "display_dataset_shape(train_data,train_target)\n",
    "display_dataset_shape(test_data,test_target)\n"
   ]
  },
  {
   "cell_type": "markdown",
   "metadata": {},
   "source": [
    "## PSO LOOP"
   ]
  },
  {
   "cell_type": "code",
   "execution_count": 241,
   "metadata": {},
   "outputs": [
    {
     "name": "stdout",
     "output_type": "stream",
     "text": [
      "New Population :  1\n",
      "layer1:  64 layer2:  48 layer3:  32 layer4:  32 dropout:  0.2 velocity:  0.48 position:  0.55 weight constant:  0.9\n",
      "New Population :  2\n",
      "layer1:  40 layer2:  16 layer3:  8 layer4:  24 dropout:  0.3 velocity:  0.99 position:  0.35 weight constant:  0.9\n",
      "New Population :  3\n",
      "layer1:  8 layer2:  24 layer3:  40 layer4:  48 dropout:  0.5 velocity:  0.22 position:  0.55 weight constant:  0.9\n",
      "New Population :  4\n",
      "layer1:  16 layer2:  8 layer3:  32 layer4:  8 dropout:  0.2 velocity:  0.81 position:  0.17 weight constant:  0.9\n",
      "New Population :  5\n",
      "layer1:  56 layer2:  64 layer3:  40 layer4:  24 dropout:  0.1 velocity:  0.8 position:  0.73 weight constant:  0.9\n",
      "Popualtion Shape :  (5, 11)\n",
      "[40.   16.    8.   24.    0.3   0.35  0.99  0.9   1.    0.    0.  ]\n",
      "Results Acc: 0.0\n",
      "Results Loss: 1.0\n",
      "[[64.   48.   32.   32.    0.2   0.55  0.48  0.9   1.    0.    0.  ]\n",
      " [40.   16.    8.   24.    0.3   0.35  0.99  0.9   1.    0.    0.  ]\n",
      " [ 8.   24.   40.   48.    0.5   0.55  0.22  0.9   1.    0.    0.  ]\n",
      " [16.    8.   32.    8.    0.2   0.17  0.81  0.9   1.    0.    0.  ]\n",
      " [56.   64.   40.   24.    0.1   0.73  0.8   0.9   1.    0.    0.  ]]\n",
      "Runnning Model:  1  accuracy:  0.81  loss:  0.36\n",
      "Runnning Model:  2  accuracy:  0.62  loss:  0.34\n",
      "Runnning Model:  3  accuracy:  0.77  loss:  0.35\n",
      "Runnning Model:  4  accuracy:  0.62  loss:  0.9\n",
      "Runnning Model:  5  accuracy:  0.95  loss:  0.48\n",
      "[[64.   48.   32.   32.    0.2   0.55  0.48  0.9   0.36  0.81  0.  ]\n",
      " [40.   16.    8.   24.    0.3   0.35  0.99  0.9   0.34  0.62  0.  ]\n",
      " [ 8.   24.   40.   48.    0.5   0.55  0.22  0.9   0.35  0.77  0.  ]\n",
      " [16.    8.   32.    8.    0.2   0.17  0.81  0.9   0.9   0.62  0.  ]\n",
      " [56.   64.   40.   24.    0.1   0.73  0.8   0.9   0.48  0.95  0.  ]]\n",
      "1 -Calculate Fitness : 4.01\n",
      "2 -Calculate Fitness : 3.92\n",
      "3 -Calculate Fitness : 4.02\n",
      "4 -Calculate Fitness : 1.12\n",
      "5 -Calculate Fitness : 3.55\n",
      "Population Results Saved :  PopualtionData_5_TIME1616694580.csv\n",
      "Best Model Found [ 8.   24.   40.   48.    0.5   0.55  0.22  0.9   0.35  0.77  4.02]\n",
      " L1     L2     L3    L4    DP    V      P     W    Loss   Acc   Fit\n",
      "[[64.   48.   32.   32.    0.2   0.55  0.48  0.9   0.36  0.81  4.01]\n",
      " [40.   16.    8.   24.    0.3   0.35  0.99  0.9   0.34  0.62  3.92]\n",
      " [ 8.   24.   40.   48.    0.5   0.55  0.22  0.9   0.35  0.77  4.02]\n",
      " [16.    8.   32.    8.    0.2   0.17  0.81  0.9   0.9   0.62  1.12]\n",
      " [56.   64.   40.   24.    0.1   0.73  0.8   0.9   0.48  0.95  3.55]]\n",
      "Updates New Position adn Velocity\n",
      " L1     L2     L3    L4    DP    V      P     W    Loss   Acc   Fit\n",
      "[[64.   48.   32.   32.    0.2   0.11  0.59  0.9   0.36  0.81  4.01]\n",
      " [40.   16.    8.   24.    0.3  -0.58  0.41  0.9   0.34  0.62  3.92]\n",
      " [ 8.   24.   40.   48.    0.5   0.36  0.58  0.9   0.35  0.77  4.02]\n",
      " [16.    8.   32.    8.    0.2  -0.55  0.26  0.9   0.9   0.62  1.12]\n",
      " [56.   64.   40.   24.    0.1  -0.03  0.77  0.9   0.48  0.95  3.55]]\n",
      "Population Results Saved :  Updated_PopualtionData_5_TIME1616694580.csv\n"
     ]
    }
   ],
   "source": [
    "\n",
    "np.set_printoptions(suppress=True)\n",
    "\n",
    "debug = True\n",
    "#Initialize Population  [64, 32, 16, 16, 0.1, P, V, W, loss,accuracy , fitness]\n",
    "popSize = 5\n",
    "for i in range(popSize):\n",
    "    \n",
    "    dropout = round(random.uniform(0.1,0.5), 1)\n",
    "    layer1 = random.randint(1, 8)*8\n",
    "    layer2 = random.randint(1, 8)*8\n",
    "    layer3 = random.randint(1, 8)*8\n",
    "    layer4 = random.randint(1, 8)*8\n",
    "    position = round(random.uniform(0,1), 2)\n",
    "    velocity = round(random.uniform(0,1), 2)\n",
    "    weight= 0.90\n",
    "    \n",
    "    if(debug):\n",
    "        print(\"New Population : \",i+1)\n",
    "       \n",
    "        print(\"layer1: \",layer1, end =\" \")\n",
    "        print(\"layer2: \",layer2, end =\" \")\n",
    "        print(\"layer3: \",layer3, end =\" \")\n",
    "        print(\"layer4: \",layer4, end =\" \")\n",
    "        print(\"dropout: \",dropout, end =\" \")\n",
    "        print(\"velocity: \",velocity, end =\" \")\n",
    "        print(\"position: \",position, end =\" \")\n",
    "        print(\"weight constant: \",weight)\n",
    "    \n",
    "    new = [layer1, layer2, layer3,layer4,dropout,position,velocity,weight,1,0,0]\n",
    "    if(i==0):\n",
    "        popdata = [new]\n",
    "    else:\n",
    "        popdata = np.vstack((popdata, new))\n",
    "    \n",
    "    \n",
    "print(\"Popualtion Shape : \",popdata.shape)\n",
    "print(popdata[1])\n",
    "print(\"Results Acc:\",popdata[1,9])\n",
    "print(\"Results Loss:\",popdata[1,8])\n",
    "# Update results in tensorflow\n",
    "print (popdata)\n",
    "\n",
    "for i in range(popdata.shape[0]):\n",
    "    \n",
    "    #Runn The Model Here RANDOM NUMBERS FOR NOW\n",
    "    accuracy = round(random.uniform(0.5,0.99), 2)\n",
    "    loss = round(random.uniform(1,0.01), 2)\n",
    "    # get the results\n",
    "    results = RunModelDesign(popdata[i]);\n",
    "    \n",
    "    popdata[i,9]= accuracy\n",
    "    popdata[i,8]= loss\n",
    "    \n",
    "    if(debug):\n",
    "        print(\"Runnning Model: \",i+1, \" accuracy: \",accuracy,\" loss: \",loss);\n",
    "    \n",
    "print(popdata)\n",
    "\n",
    "\n",
    "# calculate fitness \n",
    "\n",
    "for i in range(popdata.shape[0]):\n",
    "    accuracy = popdata[i,9]\n",
    "    loss = popdata[i,8]\n",
    "    fitness = accuracy + (1-loss)*5\n",
    "    popdata[i,10]= round(fitness,2)\n",
    "    print(i+1,\"-Calculate Fitness :\",round(fitness,2))\n",
    "    \n",
    "    \n",
    "    \n",
    "from datetime import datetime\n",
    "import calendar\n",
    "d = datetime.utcnow()\n",
    "unixtime = calendar.timegm(d.utctimetuple())\n",
    "#SAVE TO CSV RESULTS\n",
    "\n",
    "csvFileName = \"PopualtionData_\"+str(popSize)+\"_TIME\"+str(unixtime)+\".csv\"\n",
    "print(\"Population Results Saved : \",csvFileName )\n",
    "np.savetxt(csvFileName, popdata, delimiter=\",\", fmt='%f')\n",
    "\n",
    "\n",
    "#Find Best model in batch\n",
    "\n",
    "max_index_col = np.argmax(popdata[:,10], axis=0)\n",
    "print(\"Best Model Found\", popdata[max_index_col])\n",
    "global_bestP = popdata[max_index_col,6]\n",
    "print(\" L1     L2     L3    L4    DP    V      P     W    Loss   Acc   Fit\")\n",
    "print(popdata)\n",
    "# calculate new velocity\n",
    "#for each denseLAYER COMBINATION \n",
    "    # V-new = WEIGHT * V-old + C1 * ( RANDOM(0-1) * P) + (RANDOM(0-1) * C2) dense[i,5] (global best P) - Pold \n",
    "    # p-new = P-old + Vnew\n",
    "    #[00, 00,  00, 0.1,Pnew,Vnew,W,loss,accuracy]\n",
    "\n",
    "    \n",
    "    \n",
    "for i in range(popdata.shape[0]):\n",
    "    oldV = popdata[i,5]\n",
    "    oldP = popdata[i,6]  \n",
    "    weight = popdata[i,7]\n",
    "    rand01 = round(random.uniform(0,1), 1)\n",
    "    c1 = 0.1\n",
    "    c2 = 0.1\n",
    "    \n",
    "    newV = weight * oldV +  c1 * ( rand01 * global_bestP ) + (rand01 * c2) - oldP\n",
    "    popdata[i,5] = round(newV,2)\n",
    "    newP = oldP + newV\n",
    "    popdata[i,6] = round(newP,2)\n",
    "print(\"Updates New Position adn Velocity\")\n",
    "print(\" L1     L2     L3    L4    DP    V      P     W    Loss   Acc   Fit\")\n",
    "print(popdata)\n",
    "#each model(on an specific epoch) produces val_loss: 0.6911 min - val_accuracy: 0.5063 max\n",
    "# V-new = WEIGHT * V-old + C1 * RANDOM(0-?)\n",
    "\n",
    "\n",
    "csvFileName = \"Updated_PopualtionData_\"+str(popSize)+\"_TIME\"+str(unixtime)+\".csv\"\n",
    "print(\"Population Results Saved : \",csvFileName )\n",
    "np.savetxt(csvFileName, popdata, delimiter=\",\", fmt='%f')\n"
   ]
  },
  {
   "cell_type": "code",
   "execution_count": 303,
   "metadata": {},
   "outputs": [
    {
     "ename": "NameError",
     "evalue": "name 'data' is not defined",
     "output_type": "error",
     "traceback": [
      "\u001b[1;31m---------------------------------------------------------------------------\u001b[0m",
      "\u001b[1;31mNameError\u001b[0m                                 Traceback (most recent call last)",
      "\u001b[1;32m<ipython-input-303-4e2519247e1d>\u001b[0m in \u001b[0;36m<module>\u001b[1;34m\u001b[0m\n\u001b[0;32m      3\u001b[0m \u001b[1;33m\u001b[0m\u001b[0m\n\u001b[0;32m      4\u001b[0m \u001b[1;33m\u001b[0m\u001b[0m\n\u001b[1;32m----> 5\u001b[1;33m \u001b[1;33m(\u001b[0m\u001b[0mtrain_data\u001b[0m\u001b[1;33m,\u001b[0m \u001b[0mtest_data\u001b[0m\u001b[1;33m,\u001b[0m \u001b[0mtrain_target\u001b[0m\u001b[1;33m,\u001b[0m \u001b[0mtest_target\u001b[0m \u001b[1;33m)\u001b[0m \u001b[1;33m=\u001b[0m \u001b[0mtrain_test_split\u001b[0m\u001b[1;33m(\u001b[0m\u001b[0mdata\u001b[0m\u001b[1;33m,\u001b[0m \u001b[0mhot_encoded_labels\u001b[0m\u001b[1;33m,\u001b[0m \u001b[0mtest_size\u001b[0m\u001b[1;33m=\u001b[0m\u001b[1;36m0.20\u001b[0m\u001b[1;33m,\u001b[0m \u001b[0mstratify\u001b[0m\u001b[1;33m=\u001b[0m\u001b[0mhot_encoded_labels\u001b[0m\u001b[1;33m,\u001b[0m \u001b[0mrandom_state\u001b[0m\u001b[1;33m=\u001b[0m\u001b[1;36m42\u001b[0m\u001b[1;33m)\u001b[0m\u001b[1;33m\u001b[0m\u001b[1;33m\u001b[0m\u001b[0m\n\u001b[0m\u001b[0;32m      6\u001b[0m \u001b[1;33m\u001b[0m\u001b[0m\n\u001b[0;32m      7\u001b[0m \u001b[1;33m\u001b[0m\u001b[0m\n",
      "\u001b[1;31mNameError\u001b[0m: name 'data' is not defined"
     ]
    }
   ],
   "source": [
    "#Initialize Data\n",
    "\n",
    "\n",
    "data\n",
    "(train_data, test_data, train_target, test_target ) = train_test_split(data, hot_encoded_labels, test_size=0.20, stratify=hot_encoded_labels, random_state=42)\n",
    "\n",
    "\n",
    "def RunModelDesign(settings):\n",
    "    \n",
    "  \n",
    "    #Load the VGG19 model, top layers off\n",
    "    baseModel = VGG19(weights=\"imagenet\",include_top=False,input_tensor=Input(shape=(224,224,3)))\n",
    "    INIT_LR= 1e-3 # 0.001 \n",
    "    EPOCHS= 10\n",
    "    BS= 8\n",
    "    \n",
    "    print(\"Running Experiment : \",settings)\n",
    "    print(\"layer-1:\",settings[0])\n",
    "    headModel=baseModel.output\n",
    "    headModel=AveragePooling2D(pool_size=(4,4))(headModel)\n",
    "    headModel=Flatten(name=\"flatten\")(headModel)\n",
    "    headModel=Dense(settings[0],activation=\"relu\")(headModel) #LAYER \n",
    "    headModel=Dense(settings[1],activation=\"relu\")(headModel) #LAYER \n",
    "    headModel=Dense(settings[2],activation=\"relu\")(headModel) #LAYER \n",
    "    headModel=Dense(settings[3],activation=\"relu\")(headModel) #LAYER \n",
    "    headModel=Dropout(settings[4])(headModel)# MIN-MAX 0.1-0.5\n",
    "    headModel=Dense(2,activation=\"softmax\")(headModel) # abnormal /non compliant \n",
    "    model= Model(inputs=baseModel.input, outputs=headModel)\n",
    "    if(debug):\n",
    "        model.summary()\n",
    "        \n",
    "    for layer in baseModel.layers:\n",
    "        layer.trainable = False\n",
    "\n",
    "    print(\"[INFO] compiling model....\")\n",
    "    opt=Adam(lr=INIT_LR,decay=INIT_LR/EPOCHS)\n",
    "    model.compile(loss=\"binary_crossentropy\",optimizer=opt,metrics=[\"accuracy\"])\n",
    "    \n",
    "    print(\"[INFO] Training the model....\")\n",
    "    \n",
    "    \n",
    "    filepath = str(int(settings[0]))+\"-\"+str(int(settings[1]))+\"-\"+str(int(settings[2]))+\"-\"+str(int(settings[3]))+\"-DP0\"+str(int(10*settings[4]))+\"-VGG19.h5\"\n",
    "    checkpoint = ModelCheckpoint(filepath, monitor='val_accuracy', verbose=1, \n",
    "                                 save_best_only=True, mode='max')\n",
    "    print(\"[INFO] model file: \",filepath)\n",
    "    \n",
    "    \n",
    "    #initialize training data augmentation\n",
    "    trainAug= ImageDataGenerator(rotation_range=15,\n",
    "                                 rescale=1./255,\n",
    "                                 width_shift_range=0.2,\n",
    "                                 height_shift_range=0.2,\n",
    "                                 shear_range=0.2,\n",
    "                                 zoom_range=0.2,\n",
    "                                 horizontal_flip=True,\n",
    "                                 fill_mode=\"nearest\")\n",
    "    \n",
    "\n",
    "    History=model.fit(\n",
    "        trainAug.flow(train_data,train_target,batch_size=BS),\n",
    "        steps_per_epoch=len(train_data)//BS,\n",
    "        validation_data=(test_data,test_target),\n",
    "        validation_steps=len(test_data)//BS,\n",
    "        epochs=5,\n",
    "        callbacks=[checkpoint])\n",
    "    \n",
    "    \n",
    "    "
   ]
  },
  {
   "cell_type": "code",
   "execution_count": 302,
   "metadata": {},
   "outputs": [
    {
     "name": "stdout",
     "output_type": "stream",
     "text": [
      "Running Experiment :  [56.   64.   40.   24.    0.1  -0.03  0.77  0.9   0.48  0.95  3.55]\n",
      "layer-1: 56.0\n",
      "Model: \"model_15\"\n",
      "_________________________________________________________________\n",
      "Layer (type)                 Output Shape              Param #   \n",
      "=================================================================\n",
      "input_3 (InputLayer)         [(None, 224, 224, 3)]     0         \n",
      "_________________________________________________________________\n",
      "block1_conv1 (Conv2D)        (None, 224, 224, 64)      1792      \n",
      "_________________________________________________________________\n",
      "block1_conv2 (Conv2D)        (None, 224, 224, 64)      36928     \n",
      "_________________________________________________________________\n",
      "block1_pool (MaxPooling2D)   (None, 112, 112, 64)      0         \n",
      "_________________________________________________________________\n",
      "block2_conv1 (Conv2D)        (None, 112, 112, 128)     73856     \n",
      "_________________________________________________________________\n",
      "block2_conv2 (Conv2D)        (None, 112, 112, 128)     147584    \n",
      "_________________________________________________________________\n",
      "block2_pool (MaxPooling2D)   (None, 56, 56, 128)       0         \n",
      "_________________________________________________________________\n",
      "block3_conv1 (Conv2D)        (None, 56, 56, 256)       295168    \n",
      "_________________________________________________________________\n",
      "block3_conv2 (Conv2D)        (None, 56, 56, 256)       590080    \n",
      "_________________________________________________________________\n",
      "block3_conv3 (Conv2D)        (None, 56, 56, 256)       590080    \n",
      "_________________________________________________________________\n",
      "block3_conv4 (Conv2D)        (None, 56, 56, 256)       590080    \n",
      "_________________________________________________________________\n",
      "block3_pool (MaxPooling2D)   (None, 28, 28, 256)       0         \n",
      "_________________________________________________________________\n",
      "block4_conv1 (Conv2D)        (None, 28, 28, 512)       1180160   \n",
      "_________________________________________________________________\n",
      "block4_conv2 (Conv2D)        (None, 28, 28, 512)       2359808   \n",
      "_________________________________________________________________\n",
      "block4_conv3 (Conv2D)        (None, 28, 28, 512)       2359808   \n",
      "_________________________________________________________________\n",
      "block4_conv4 (Conv2D)        (None, 28, 28, 512)       2359808   \n",
      "_________________________________________________________________\n",
      "block4_pool (MaxPooling2D)   (None, 14, 14, 512)       0         \n",
      "_________________________________________________________________\n",
      "block5_conv1 (Conv2D)        (None, 14, 14, 512)       2359808   \n",
      "_________________________________________________________________\n",
      "block5_conv2 (Conv2D)        (None, 14, 14, 512)       2359808   \n",
      "_________________________________________________________________\n",
      "block5_conv3 (Conv2D)        (None, 14, 14, 512)       2359808   \n",
      "_________________________________________________________________\n",
      "block5_conv4 (Conv2D)        (None, 14, 14, 512)       2359808   \n",
      "_________________________________________________________________\n",
      "block5_pool (MaxPooling2D)   (None, 7, 7, 512)         0         \n",
      "_________________________________________________________________\n",
      "average_pooling2d_16 (Averag (None, 1, 1, 512)         0         \n",
      "_________________________________________________________________\n",
      "flatten (Flatten)            (None, 512)               0         \n",
      "_________________________________________________________________\n",
      "dense_75 (Dense)             (None, 56)                28728     \n",
      "_________________________________________________________________\n",
      "dense_76 (Dense)             (None, 64)                3648      \n",
      "_________________________________________________________________\n",
      "dense_77 (Dense)             (None, 40)                2600      \n",
      "_________________________________________________________________\n",
      "dense_78 (Dense)             (None, 24)                984       \n",
      "_________________________________________________________________\n",
      "dropout_15 (Dropout)         (None, 24)                0         \n",
      "_________________________________________________________________\n",
      "dense_79 (Dense)             (None, 2)                 50        \n",
      "=================================================================\n",
      "Total params: 20,060,394\n",
      "Trainable params: 20,060,394\n",
      "Non-trainable params: 0\n",
      "_________________________________________________________________\n",
      "[INFO] compiling model....\n",
      "[INFO] Training the model....\n",
      "[INFO] model file:  56-64-40-24-DP01-VGG19.h5\n"
     ]
    },
    {
     "ename": "NameError",
     "evalue": "name 'train_data' is not defined",
     "output_type": "error",
     "traceback": [
      "\u001b[1;31m---------------------------------------------------------------------------\u001b[0m",
      "\u001b[1;31mNameError\u001b[0m                                 Traceback (most recent call last)",
      "\u001b[1;32m<ipython-input-302-f81ff5842532>\u001b[0m in \u001b[0;36m<module>\u001b[1;34m\u001b[0m\n\u001b[1;32m----> 1\u001b[1;33m \u001b[0mRunModelDesign\u001b[0m\u001b[1;33m(\u001b[0m\u001b[0mpopdata\u001b[0m\u001b[1;33m[\u001b[0m\u001b[0mi\u001b[0m\u001b[1;33m]\u001b[0m\u001b[1;33m)\u001b[0m\u001b[1;33m\u001b[0m\u001b[1;33m\u001b[0m\u001b[0m\n\u001b[0m",
      "\u001b[1;32m<ipython-input-301-acef6f6adb3a>\u001b[0m in \u001b[0;36mRunModelDesign\u001b[1;34m(settings)\u001b[0m\n\u001b[0;32m     50\u001b[0m \u001b[1;33m\u001b[0m\u001b[0m\n\u001b[0;32m     51\u001b[0m     History=model.fit(\n\u001b[1;32m---> 52\u001b[1;33m         \u001b[0mtrainAug\u001b[0m\u001b[1;33m.\u001b[0m\u001b[0mflow\u001b[0m\u001b[1;33m(\u001b[0m\u001b[0mtrain_data\u001b[0m\u001b[1;33m,\u001b[0m\u001b[0mtrain_target\u001b[0m\u001b[1;33m,\u001b[0m\u001b[0mbatch_size\u001b[0m\u001b[1;33m=\u001b[0m\u001b[0mBS\u001b[0m\u001b[1;33m)\u001b[0m\u001b[1;33m,\u001b[0m\u001b[1;33m\u001b[0m\u001b[1;33m\u001b[0m\u001b[0m\n\u001b[0m\u001b[0;32m     53\u001b[0m         \u001b[0msteps_per_epoch\u001b[0m\u001b[1;33m=\u001b[0m\u001b[0mlen\u001b[0m\u001b[1;33m(\u001b[0m\u001b[0mtrain_data\u001b[0m\u001b[1;33m)\u001b[0m\u001b[1;33m//\u001b[0m\u001b[0mBS\u001b[0m\u001b[1;33m,\u001b[0m\u001b[1;33m\u001b[0m\u001b[1;33m\u001b[0m\u001b[0m\n\u001b[0;32m     54\u001b[0m         \u001b[0mvalidation_data\u001b[0m\u001b[1;33m=\u001b[0m\u001b[1;33m(\u001b[0m\u001b[0mtest_data\u001b[0m\u001b[1;33m,\u001b[0m\u001b[0mtest_target\u001b[0m\u001b[1;33m)\u001b[0m\u001b[1;33m,\u001b[0m\u001b[1;33m\u001b[0m\u001b[1;33m\u001b[0m\u001b[0m\n",
      "\u001b[1;31mNameError\u001b[0m: name 'train_data' is not defined"
     ]
    }
   ],
   "source": [
    "RunModelDesign(popdata[i])"
   ]
  },
  {
   "cell_type": "code",
   "execution_count": 274,
   "metadata": {},
   "outputs": [
    {
     "ename": "SyntaxError",
     "evalue": "invalid syntax (<ipython-input-274-2ffec6d791d2>, line 47)",
     "output_type": "error",
     "traceback": [
      "\u001b[1;36m  File \u001b[1;32m\"<ipython-input-274-2ffec6d791d2>\"\u001b[1;36m, line \u001b[1;32m47\u001b[0m\n\u001b[1;33m    for i in range(dense.shape[0])\u001b[0m\n\u001b[1;37m                                  ^\u001b[0m\n\u001b[1;31mSyntaxError\u001b[0m\u001b[1;31m:\u001b[0m invalid syntax\n"
     ]
    }
   ],
   "source": [
    "#blueprint [ layer1, layer2, layer3, dropout]\n",
    "#value blueprint \n",
    "#dropout  0.1 - 0.5\n",
    "#layer1  16-64\n",
    "#layer2  0-64\n",
    "#layer3  0-64\n",
    "\n",
    "\n",
    "#RULES  \n",
    "\n",
    "#GENERATE INITIALIZATION\n",
    "# position = random(minmax(0,1)\n",
    "# velocity = random(minmax(0,1)\n",
    "# weight value = 0.9 (constant)\n",
    "# C1 = 0.1  \n",
    "# C2 = 0.1  \n",
    "\n",
    "#3 POPULATION P V W random based on GENERATE INITIALIZATION\n",
    "dense = [\n",
    "         [64, 32, 16,0.1,P,V,W,loss,accuracy],#p_best_loss and p_best_accuracy \n",
    "         [16, 8 ,  8,0.1,P,V,W,loss,accuracy],#p_best_loss and p_best_accuracy \n",
    "         [64, 32,  0,0.1,P,V,W,loss,accuracy],#p_best_loss and p_best_accuracy \n",
    "        ]\n",
    "\n",
    "#Search best global best = val_loss: min + val_accuracy: max\n",
    "#Fittness --> result (SEARCH IN EPOCH VALIDATION)\n",
    "#Update Position \n",
    "\n",
    "#for each denseLAYER COMBINATION \n",
    "    # V-new = WEIGHT * V-old + C1 * ( RANDOM(0-1) * P) + (RANDOM(0-1) * C2) dense[i,5] (global best P) - Pold \n",
    "    # p-new = P-old + Vnew\n",
    "    #[00, 00,  00, 0.1,Pnew,Vnew,W,loss,accuracy]\n",
    "\n",
    "\n",
    "#each model(on an specific epoch) produces val_loss: 0.6911 min - val_accuracy: 0.5063 max\n",
    "# V-new = WEIGHT * V-old + C1 * RANDOM(0-?)\n",
    "\n",
    "\n",
    "\n",
    "#get best results of model \n",
    "#https://www.tensorflow.org/api_docs/python/tf/keras/callbacks/ModelCheckpoint\n",
    "\n",
    "#update save to csv \n",
    "#https://stackoverflow.com/questions/6081008/dump-a-numpy-array-into-a-csv-file\n",
    "\n",
    "\n",
    "for i in range(dense.shape[0])\n",
    "\n",
    "#make the top layer that will be used\n",
    "\n",
    "headModel=baseModel.output\n",
    "headModel=AveragePooling2D(pool_size=(4,4))(headModel)\n",
    "headModel=Flatten(name=\"flatten\")(headModel)\n",
    "\n",
    "#Layer---------------------------------------------------------DEFINITION \n",
    "\n",
    "headModel=Dense(dense[i,1],activation=\"relu\")(headModel) #LAYER \n",
    "\n",
    "\n",
    "if(dense[i,1] != 0)\n",
    "    headModel=Dense(dense[i,2],activation=\"relu\")(headModel) #LAYER \n",
    "    \n",
    "if(dense[i,1] != 0)\n",
    "    headModel=Dense(dense[i,3],activation=\"relu\")(headModel) #LAYER \n",
    "    \n",
    "headModel=Dropout(dense[i,4])(headModel)# MIN-MAX 0.1-0.5\n",
    "\n",
    "#Layer---------------------------------------------------------DEFINITION \n",
    "\n",
    "headModel=Dense(2,activation=\"softmax\")(headModel) # abnormal /non compliant \n",
    "\n",
    "#place the top layer into actual model to train\n",
    "model= Model(inputs=baseModel.input, outputs=headModel)\n",
    "\n",
    "#summary model architecture\n",
    "model.summary()"
   ]
  },
  {
   "cell_type": "code",
   "execution_count": 275,
   "metadata": {},
   "outputs": [],
   "source": [
    "# don't train existing weights\n",
    "#freeze the weight layers from all the layers in the model\n",
    "for layer in baseModel.layers:\n",
    "    layer.trainable = False"
   ]
  },
  {
   "cell_type": "code",
   "execution_count": 15,
   "metadata": {},
   "outputs": [
    {
     "name": "stdout",
     "output_type": "stream",
     "text": [
      "[INFO] compiling model....\n"
     ]
    }
   ],
   "source": [
    "#compile the model\n",
    "print(\"[INFO] compiling model....\")\n",
    "opt=Adam(lr=INIT_LR,decay=INIT_LR/EPOCHS)\n",
    "model.compile(loss=\"binary_crossentropy\",optimizer=opt,metrics=[\"accuracy\"])"
   ]
  },
  {
   "cell_type": "code",
   "execution_count": 21,
   "metadata": {},
   "outputs": [
    {
     "name": "stdout",
     "output_type": "stream",
     "text": [
      "[INFO] Training the model....\n",
      "Epoch 1/5\n",
      "80/80 [==============================] - ETA: 0s - loss: 0.7485 - accuracy: 0.5047\n",
      "Epoch 00001: val_accuracy improved from -inf to 0.50625, saving model to TB_Xray_VGG19.h5\n",
      "80/80 [==============================] - 616s 8s/step - loss: 0.7485 - accuracy: 0.5047 - val_loss: 0.7123 - val_accuracy: 0.5063\n",
      "Epoch 2/5\n",
      "80/80 [==============================] - ETA: 0s - loss: 0.7067 - accuracy: 0.4828\n",
      "Epoch 00002: val_accuracy did not improve from 0.50625\n",
      "80/80 [==============================] - 533s 7s/step - loss: 0.7067 - accuracy: 0.4828 - val_loss: 0.6911 - val_accuracy: 0.5063\n",
      "Epoch 3/5\n",
      "80/80 [==============================] - ETA: 0s - loss: 0.7002 - accuracy: 0.4797\n",
      "Epoch 00003: val_accuracy did not improve from 0.50625\n",
      "80/80 [==============================] - 534s 7s/step - loss: 0.7002 - accuracy: 0.4797 - val_loss: 0.6905 - val_accuracy: 0.5063\n",
      "Epoch 4/5\n",
      "80/80 [==============================] - ETA: 0s - loss: 0.6951 - accuracy: 0.4875\n",
      "Epoch 00004: val_accuracy did not improve from 0.50625\n",
      "80/80 [==============================] - 545s 7s/step - loss: 0.6951 - accuracy: 0.4875 - val_loss: 0.6912 - val_accuracy: 0.4875\n",
      "Epoch 5/5\n",
      "80/80 [==============================] - ETA: 0s - loss: 0.6947 - accuracy: 0.4828\n",
      "Epoch 00005: val_accuracy improved from 0.50625 to 0.51250, saving model to TB_Xray_VGG19.h5\n",
      "80/80 [==============================] - 531s 7s/step - loss: 0.6947 - accuracy: 0.4828 - val_loss: 0.6912 - val_accuracy: 0.5125\n"
     ]
    }
   ],
   "source": [
    "#train the model\n",
    "print(\"[INFO] Training the model....\")\n",
    "filepath = \"TB_Xray_VGG19.h5\"\n",
    "checkpoint = ModelCheckpoint(filepath, monitor='val_accuracy', verbose=1, \n",
    "                             save_best_only=True, mode='max')\n",
    "\n",
    "History=model.fit(\n",
    "    trainAug.flow(train_data,train_target,batch_size=BS),\n",
    "    steps_per_epoch=len(train_data)//BS,\n",
    "    validation_data=(test_data,test_target),\n",
    "    validation_steps=len(test_data)//BS,\n",
    "    epochs=5,\n",
    "    callbacks=[checkpoint])"
   ]
  },
  {
   "cell_type": "code",
   "execution_count": 22,
   "metadata": {},
   "outputs": [],
   "source": [
    "model.save(\"Xray-VGG19.h5\")"
   ]
  },
  {
   "cell_type": "markdown",
   "metadata": {},
   "source": [
    "Make predictions"
   ]
  },
  {
   "cell_type": "code",
   "execution_count": 16,
   "metadata": {},
   "outputs": [
    {
     "name": "stdout",
     "output_type": "stream",
     "text": [
      "[INFO] Loading Model....\n"
     ]
    }
   ],
   "source": [
    "print(\"[INFO] Loading Model....\")\n",
    "model=tf.keras.models.load_model(\"Xray-VGG19.h5\")"
   ]
  },
  {
   "cell_type": "code",
   "execution_count": 17,
   "metadata": {},
   "outputs": [
    {
     "name": "stdout",
     "output_type": "stream",
     "text": [
      "160\n"
     ]
    }
   ],
   "source": [
    "num_val_samples = len(test_data)\n",
    "val_batch_size = BS\n",
    "\n",
    "val_steps = np.ceil(num_val_samples / val_batch_size) #160 / 8 = 20 steps per epoch\n",
    "print(len(test_data))"
   ]
  },
  {
   "cell_type": "code",
   "execution_count": 18,
   "metadata": {},
   "outputs": [
    {
     "name": "stdout",
     "output_type": "stream",
     "text": [
      "[INFO] evaluating model....\n",
      "20/20 [==============================] - 0s 5ms/step - loss: 0.0000e+00 - accuracy: 0.0000e+00\n",
      "val_loss: 0.0\n",
      "val_acc: 0.0\n"
     ]
    }
   ],
   "source": [
    "# Here the best epoch will be used.\n",
    "#validate the model\n",
    "print(\"[INFO] evaluating model....\")\n",
    "\n",
    "model.load_weights(\"Xray-VGG19.h5\")\n",
    "val_loss, val_acc = \\\n",
    "model.evaluate(test_data, \n",
    "               steps=val_steps)\n",
    "#predicts=model.predict(test_data,verbose=1)\n",
    "print('val_loss:', val_loss)\n",
    "print('val_acc:', val_acc)"
   ]
  },
  {
   "cell_type": "code",
   "execution_count": 19,
   "metadata": {},
   "outputs": [
    {
     "name": "stdout",
     "output_type": "stream",
     "text": [
      "Label = [1. 0.]\n",
      "image shape:  (224, 224, 3)\n"
     ]
    },
    {
     "data": {
      "image/png": "[encoded data removed]",
      "text/plain": [
       "<Figure size 432x288 with 1 Axes>"
      ]
     },
     "metadata": {
      "needs_background": "light"
     },
     "output_type": "display_data"
    }
   ],
   "source": [
    "#Abnormal = [1. 0.]\n",
    "#Normal = [0. 1.]\n",
    "index=3\n",
    "image=test_data[index]\n",
    "anis_koubaa_lib.display_image(test_data,test_target,index)\n",
    "\n",
    "\n"
   ]
  },
  {
   "cell_type": "code",
   "execution_count": 305,
   "metadata": {},
   "outputs": [],
   "source": [
    "def reshape_image_for_neural_network_input(image, IMAGE_SIZE=224):\n",
    "    print (\"flatten the image\")\n",
    "    image = np.reshape(image,[IMAGE_SIZE* IMAGE_SIZE*3,1])\n",
    "    print (\"image.shape\", image.shape)\n",
    "    print (\"reshape the image to be similar to the input feature vector\")\n",
    "    #image = np.reshape(image,[1,IMAGE_SIZE, IMAGE_SIZE,3]).astype('float')\n",
    "    image = image.reshape(1,IMAGE_SIZE,IMAGE_SIZE,3).astype('float')\n",
    "    print (\"image.shape\", image.shape)\n",
    "    return image"
   ]
  },
  {
   "cell_type": "code",
   "execution_count": 21,
   "metadata": {},
   "outputs": [
    {
     "name": "stdout",
     "output_type": "stream",
     "text": [
      "flatten the image\n",
      "image.shape (150528, 1)\n",
      "reshape the image to be similar to the input feature vector\n",
      "image.shape (1, 224, 224, 3)\n",
      "1/1 [==============================] - 0s 6ms/step\n",
      "true label:  [1. 0.]\n",
      "predicted label:  [[0.48910496 0.510895  ]]\n"
     ]
    }
   ],
   "source": [
    "#import anis_koubaa_lib\n",
    "#from anis_koubaa_lib import *\n",
    "#image=anis_koubaa_lib.reshape_image_for_neural_network_input(image)\n",
    "#Abnormal = [1. 0.]\n",
    "#Normal = [0. 1.]\n",
    "image=reshape_image_for_neural_network_input(image)\n",
    "\n",
    "predProbabilities= model.predict(image,verbose=1)\n",
    "\n",
    "print(\"true label: \", test_target[index])\n",
    "print(\"predicted label: \",predProbabilities)"
   ]
  },
  {
   "cell_type": "code",
   "execution_count": 22,
   "metadata": {},
   "outputs": [
    {
     "name": "stdout",
     "output_type": "stream",
     "text": [
      "Predicted label:  [1]\n"
     ]
    }
   ],
   "source": [
    "#for each image in the test dataset, we need to find the index of the label with the largest probability\n",
    "#[1] = normal , [0] = abnormal\n",
    "predIndex=np.argmax(predProbabilities,axis=1)\n",
    "print(\"Predicted label: \",predIndex)"
   ]
  },
  {
   "cell_type": "markdown",
   "metadata": {},
   "source": [
    "# Training the model(other method(tak guna))"
   ]
  },
  {
   "cell_type": "code",
   "execution_count": 16,
   "metadata": {},
   "outputs": [],
   "source": [
    "datagen = ImageDataGenerator(rescale=1./255.)\n",
    "\n",
    "train_generator = datagen.flow(trainX,\n",
    "                               trainY,\n",
    "                               batch_size=BS)\n",
    "                               #target_size=(224,224),\n",
    "                               #class_mode='categorical',\n",
    "                               #follow_links=True)\n",
    "\n",
    "valid_generator = datagen.flow(testX,\n",
    "                               testY,\n",
    "                               batch_size=BS)\n",
    "                               #target_size=(224,224),\n",
    "                               #class_mode='categorical',\n",
    "                               #follow_links=True)"
   ]
  },
  {
   "cell_type": "code",
   "execution_count": 17,
   "metadata": {},
   "outputs": [
    {
     "name": "stdout",
     "output_type": "stream",
     "text": [
      "640\n",
      "160\n"
     ]
    }
   ],
   "source": [
    "print(train_generator.n)\n",
    "print(valid_generator.n)"
   ]
  },
  {
   "cell_type": "code",
   "execution_count": 20,
   "metadata": {},
   "outputs": [
    {
     "name": "stdout",
     "output_type": "stream",
     "text": [
      "Epoch 1/10\n",
      "80/80 [==============================] - 641s 8s/step - loss: 0.7719 - accuracy: 0.5156 - val_loss: 0.7010 - val_accuracy: 0.4938\n",
      "Epoch 2/10\n",
      "80/80 [==============================] - 637s 8s/step - loss: 0.7064 - accuracy: 0.4734 - val_loss: 0.6959 - val_accuracy: 0.4938\n",
      "Epoch 3/10\n",
      "80/80 [==============================] - 663s 8s/step - loss: 0.6975 - accuracy: 0.4953 - val_loss: 0.6932 - val_accuracy: 0.5063\n",
      "Epoch 4/10\n",
      "80/80 [==============================] - 617s 8s/step - loss: 0.6973 - accuracy: 0.4922 - val_loss: 0.6932 - val_accuracy: 0.4938\n",
      "Epoch 5/10\n",
      "80/80 [==============================] - 707s 9s/step - loss: 0.6946 - accuracy: 0.4797 - val_loss: 0.6931 - val_accuracy: 0.5063\n",
      "Epoch 6/10\n",
      "80/80 [==============================] - 622s 8s/step - loss: 0.6944 - accuracy: 0.4781 - val_loss: 0.6931 - val_accuracy: 0.5063\n",
      "Epoch 7/10\n",
      "80/80 [==============================] - 642s 8s/step - loss: 0.6942 - accuracy: 0.5031 - val_loss: 0.6931 - val_accuracy: 0.5063\n",
      "Epoch 8/10\n",
      "80/80 [==============================] - 630s 8s/step - loss: 0.6939 - accuracy: 0.4781 - val_loss: 0.6931 - val_accuracy: 0.5063\n",
      "Epoch 9/10\n",
      "80/80 [==============================] - 648s 8s/step - loss: 0.6937 - accuracy: 0.4500 - val_loss: 0.6931 - val_accuracy: 0.5063\n",
      "Epoch 10/10\n",
      "80/80 [==============================] - 645s 8s/step - loss: 0.6934 - accuracy: 0.5078 - val_loss: 0.6931 - val_accuracy: 0.5063\n"
     ]
    },
    {
     "data": {
      "text/plain": [
       "<tensorflow.python.keras.callbacks.History at 0x25e23e09280>"
      ]
     },
     "execution_count": 20,
     "metadata": {},
     "output_type": "execute_result"
    }
   ],
   "source": [
    "STEP_SIZE_TRAIN=train_generator.n//train_generator.batch_size\n",
    "STEP_SIZE_VALID=valid_generator.n//valid_generator.batch_size\n",
    "h=model.fit(train_generator,\n",
    "          steps_per_epoch=STEP_SIZE_TRAIN,\n",
    "          validation_data=valid_generator,\n",
    "          validation_steps=STEP_SIZE_VALID,\n",
    "          epochs=10)"
   ]
  },
  {
   "cell_type": "code",
   "execution_count": 21,
   "metadata": {},
   "outputs": [],
   "source": [
    "model.save(\"Xray-vgg19.h5\")"
   ]
  },
  {
   "cell_type": "markdown",
   "metadata": {},
   "source": [
    "Classification report"
   ]
  },
  {
   "cell_type": "code",
   "execution_count": null,
   "metadata": {},
   "outputs": [],
   "source": [
    "predProbabilities=model.predict(test_data,verbose=1)\n",
    "predIndex=np.argmax(predProbabilities,axis=1)\n",
    "\n",
    "print(classification_report(test_target.argmax(axis=1),predIndex,target_names=lb.classes_))"
   ]
  }
 ],
 "metadata": {
  "kernelspec": {
   "display_name": "Python 3",
   "language": "python",
   "name": "python3"
  },
  "language_info": {
   "codemirror_mode": {
    "name": "ipython",
    "version": 3
   },
   "file_extension": ".py",
   "mimetype": "text/x-python",
   "name": "python",
   "nbconvert_exporter": "python",
   "pygments_lexer": "ipython3",
   "version": "3.8.5"
  }
 },
 "nbformat": 4,
 "nbformat_minor": 4
}
